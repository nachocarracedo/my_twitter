{
 "cells": [
  {
   "cell_type": "code",
   "execution_count": 38,
   "metadata": {
    "collapsed": false
   },
   "outputs": [],
   "source": [
    "import numpy as np\n",
    "import pandas as pd\n",
    "import matplotlib.pyplot as plt\n",
    "%matplotlib inline\n",
    "plt.style.use('fivethirtyeight')\n",
    "\n",
    "from twython import Twython\n",
    "import keys #twitter keys: APP_KEY, APP_SECRET, OAUTH_TOKEN, OAUTH_TOKEN_SECRET"
   ]
  },
  {
   "cell_type": "code",
   "execution_count": 2,
   "metadata": {
    "collapsed": false
   },
   "outputs": [],
   "source": [
    "# twython auth\n",
    "twitter = Twython(keys.APP_KEY, keys.APP_SECRET,keys.OAUTH_TOKEN, keys.OAUTH_TOKEN_SECRET)"
   ]
  },
  {
   "cell_type": "code",
   "execution_count": 3,
   "metadata": {
    "collapsed": false
   },
   "outputs": [],
   "source": [
    "# init empty lists to save tweets and metadata\n",
    "user_ids, user_names, texts , creation, retweets ,favorites, lenguage, retweet, retweet_from, in_reply = ([] for i in range(10))\n",
    "# get following IDs and NAMES (can get more info of users if needed!)\n",
    "following_ids = [] # to save ids\n",
    "following_names= {} # dictinary key:user_id, value: user_name\n",
    "following = twitter.get_friends_list()\n",
    "for u in following[\"users\"]:\n",
    "    following_ids.append(u['id'])\n",
    "    following_names[u['id']]=u['name']\n",
    "\n",
    "# get 200 tweets and metadata from each friend (can get more metadata if needed!)\n",
    "for user_id in following_ids:\n",
    "    tweets200 = twitter.get_user_timeline(user_id=user_id,count=200)\n",
    "    for t in tweets200:\n",
    "        user_ids.append(user_id)\n",
    "        user_names.append(following_names[user_id])\n",
    "        texts.append(t[\"text\"])\n",
    "        creation.append(t[\"created_at\"])\n",
    "        retweets.append(t[\"retweet_count\"])\n",
    "        favorites.append(t[\"favorite_count\"])\n",
    "        lenguage.append(t[\"lang\"])\n",
    "        in_reply.append(t['in_reply_to_screen_name'])\n",
    "        retweet.append(('retweeted_status') in t)\n",
    "        if ('retweeted_status') in t:\n",
    "            retweet_from.append(t['retweeted_status']['user']['name'])\n",
    "        else:\n",
    "            retweet_from.append(\"N/A\")"
   ]
  },
  {
   "cell_type": "code",
   "execution_count": 4,
   "metadata": {
    "collapsed": false
   },
   "outputs": [],
   "source": [
    "# create final DataFrame\n",
    "mytweets = pd.DataFrame({'user_id':user_ids,'user_name':user_names, 'text':texts ,'retweet': retweet, 'creation':creation ,\n",
    "              'retweets':retweets , 'favorites':favorites , 'lenguage':lenguage,'retweet_from': retweet_from,\n",
    "              'in_reply':in_reply})\n",
    "mytweets[\"in_reply\"] = mytweets[\"in_reply\"].map(lambda x: \"None\" if x is None else x) # fix in_replay column None type to \"None\""
   ]
  },
  {
   "cell_type": "code",
   "execution_count": 25,
   "metadata": {
    "collapsed": false
   },
   "outputs": [
    {
     "name": "stdout",
     "output_type": "stream",
     "text": [
      "size: (3448, 10) \n",
      "------------------------\n",
      "creation        0\n",
      "favorites       0\n",
      "in_reply        0\n",
      "lenguage        0\n",
      "retweet         0\n",
      "retweet_from    0\n",
      "retweets        0\n",
      "text            0\n",
      "user_id         0\n",
      "user_name       0\n",
      "dtype: int64\n",
      "\n",
      "replies and retweets at the same time: 0\n"
     ]
    }
   ],
   "source": [
    "# checks\n",
    "print(\"size:\", mytweets.shape, \"\\n------------------------\") #size\n",
    "print(mytweets.isnull().sum()) #column names $missing values \n",
    "print(\"\\nreplies and retweets at the same time:\",end=\" \")\n",
    "print(mytweets[(mytweets[\"in_reply\"]!=\"None\") & (mytweets[\"retweet\"]==True)].size)"
   ]
  },
  {
   "cell_type": "code",
   "execution_count": 50,
   "metadata": {
    "collapsed": false,
    "scrolled": false
   },
   "outputs": [
    {
     "name": "stdout",
     "output_type": "stream",
     "text": [
      "0    retweet\n",
      "1    retweet\n",
      "2      reply\n",
      "3    retweet\n",
      "4    retweet\n",
      "dtype: object\n"
     ]
    },
    {
     "data": {
      "image/png": "[encoded data removed]",
      "text/plain": [
       "<matplotlib.figure.Figure at 0xd6bb048>"
      ]
     },
     "metadata": {},
     "output_type": "display_data"
    }
   ],
   "source": [
    "# Home many of all tweets are regular, tweeet, reply\n",
    "def tweet_type(row):\n",
    "    if row.retweet == True:\n",
    "        return \"retweet\"\n",
    "    elif row.in_reply == \"None\":\n",
    "        return \"reply\"\n",
    "    else:\n",
    "        return \"tweet\"\n",
    "# are there any replies and retweets?\n",
    "a = mytweets.apply(tweet_type,1)\n",
    "print(a.head())\n",
    "fig=plt.figure(figsize=(3,3))\n",
    "a.value_counts().plot(kind='bar')\n",
    "plt.title(\"Types of tweets\")\n",
    "plt.xticks(rotation=45)\n",
    "plt.show()"
   ]
  },
  {
   "cell_type": "code",
   "execution_count": 8,
   "metadata": {
    "collapsed": false
   },
   "outputs": [
    {
     "data": {
      "text/plain": [
       "None    2893\n",
       "Name: in_reply, dtype: int64"
      ]
     },
     "execution_count": 8,
     "metadata": {},
     "output_type": "execute_result"
    }
   ],
   "source": [
    "mytweets.in_reply.value_counts()[:1]"
   ]
  },
  {
   "cell_type": "code",
   "execution_count": 9,
   "metadata": {
    "collapsed": false
   },
   "outputs": [
    {
     "data": {
      "text/plain": [
       "False    2294\n",
       "True     1154\n",
       "Name: retweet, dtype: int64"
      ]
     },
     "execution_count": 9,
     "metadata": {},
     "output_type": "execute_result"
    }
   ],
   "source": [
    "mytweets.retweet.value_counts()"
   ]
  },
  {
   "cell_type": "code",
   "execution_count": 14,
   "metadata": {
    "collapsed": false
   },
   "outputs": [
    {
     "data": {
      "text/plain": [
       "0"
      ]
     },
     "execution_count": 14,
     "metadata": {},
     "output_type": "execute_result"
    }
   ],
   "source": [
    "mytweets[(mytweets[\"in_reply\"]!=\"None\") & (mytweets[\"retweet\"]==True)].size"
   ]
  },
  {
   "cell_type": "code",
   "execution_count": 26,
   "metadata": {
    "collapsed": false
   },
   "outputs": [
    {
     "data": {
      "text/html": [
       "<div>\n",
       "<table border=\"1\" class=\"dataframe\">\n",
       "  <thead>\n",
       "    <tr style=\"text-align: right;\">\n",
       "      <th></th>\n",
       "      <th>creation</th>\n",
       "      <th>favorites</th>\n",
       "      <th>in_reply</th>\n",
       "      <th>lenguage</th>\n",
       "      <th>retweet</th>\n",
       "      <th>retweet_from</th>\n",
       "      <th>retweets</th>\n",
       "      <th>text</th>\n",
       "      <th>user_id</th>\n",
       "      <th>user_name</th>\n",
       "    </tr>\n",
       "  </thead>\n",
       "  <tbody>\n",
       "    <tr>\n",
       "      <th>0</th>\n",
       "      <td>Fri Dec 23 02:22:09 +0000 2016</td>\n",
       "      <td>0</td>\n",
       "      <td>None</td>\n",
       "      <td>en</td>\n",
       "      <td>True</td>\n",
       "      <td>Ted Ullyot</td>\n",
       "      <td>75</td>\n",
       "      <td>RT @tullyot: From the @a16z Policy team, here'...</td>\n",
       "      <td>2529971</td>\n",
       "      <td>Chris Dixon</td>\n",
       "    </tr>\n",
       "    <tr>\n",
       "      <th>1</th>\n",
       "      <td>Wed Dec 21 17:38:21 +0000 2016</td>\n",
       "      <td>0</td>\n",
       "      <td>None</td>\n",
       "      <td>en</td>\n",
       "      <td>True</td>\n",
       "      <td>Max Roser</td>\n",
       "      <td>3438</td>\n",
       "      <td>RT @MaxCRoser: I have written a short history ...</td>\n",
       "      <td>2529971</td>\n",
       "      <td>Chris Dixon</td>\n",
       "    </tr>\n",
       "    <tr>\n",
       "      <th>2</th>\n",
       "      <td>Wed Dec 21 02:31:32 +0000 2016</td>\n",
       "      <td>277</td>\n",
       "      <td>None</td>\n",
       "      <td>en</td>\n",
       "      <td>False</td>\n",
       "      <td>N/A</td>\n",
       "      <td>209</td>\n",
       "      <td>Zuckerberg: \"AI is both closer and farther off...</td>\n",
       "      <td>2529971</td>\n",
       "      <td>Chris Dixon</td>\n",
       "    </tr>\n",
       "    <tr>\n",
       "      <th>3</th>\n",
       "      <td>Tue Dec 13 18:38:25 +0000 2016</td>\n",
       "      <td>0</td>\n",
       "      <td>None</td>\n",
       "      <td>en</td>\n",
       "      <td>True</td>\n",
       "      <td>WIRED</td>\n",
       "      <td>142</td>\n",
       "      <td>RT @WIRED: Google is putting its weight behind...</td>\n",
       "      <td>2529971</td>\n",
       "      <td>Chris Dixon</td>\n",
       "    </tr>\n",
       "    <tr>\n",
       "      <th>4</th>\n",
       "      <td>Tue Dec 13 16:16:09 +0000 2016</td>\n",
       "      <td>0</td>\n",
       "      <td>None</td>\n",
       "      <td>en</td>\n",
       "      <td>True</td>\n",
       "      <td>Rok Strniša</td>\n",
       "      <td>54</td>\n",
       "      <td>RT @RokStrnisa: A massive day for @Improbablei...</td>\n",
       "      <td>2529971</td>\n",
       "      <td>Chris Dixon</td>\n",
       "    </tr>\n",
       "  </tbody>\n",
       "</table>\n",
       "</div>"
      ],
      "text/plain": [
       "                         creation  favorites in_reply lenguage retweet  \\\n",
       "0  Fri Dec 23 02:22:09 +0000 2016          0     None       en    True   \n",
       "1  Wed Dec 21 17:38:21 +0000 2016          0     None       en    True   \n",
       "2  Wed Dec 21 02:31:32 +0000 2016        277     None       en   False   \n",
       "3  Tue Dec 13 18:38:25 +0000 2016          0     None       en    True   \n",
       "4  Tue Dec 13 16:16:09 +0000 2016          0     None       en    True   \n",
       "\n",
       "  retweet_from  retweets                                               text  \\\n",
       "0   Ted Ullyot        75  RT @tullyot: From the @a16z Policy team, here'...   \n",
       "1    Max Roser      3438  RT @MaxCRoser: I have written a short history ...   \n",
       "2          N/A       209  Zuckerberg: \"AI is both closer and farther off...   \n",
       "3        WIRED       142  RT @WIRED: Google is putting its weight behind...   \n",
       "4  Rok Strniša        54  RT @RokStrnisa: A massive day for @Improbablei...   \n",
       "\n",
       "   user_id    user_name  \n",
       "0  2529971  Chris Dixon  \n",
       "1  2529971  Chris Dixon  \n",
       "2  2529971  Chris Dixon  \n",
       "3  2529971  Chris Dixon  \n",
       "4  2529971  Chris Dixon  "
      ]
     },
     "execution_count": 26,
     "metadata": {},
     "output_type": "execute_result"
    }
   ],
   "source": [
    "mytweets.head()"
   ]
  },
  {
   "cell_type": "code",
   "execution_count": null,
   "metadata": {
    "collapsed": true
   },
   "outputs": [],
   "source": []
  }
 ],
 "metadata": {
  "kernelspec": {
   "display_name": "Python 3",
   "language": "python",
   "name": "python3"
  },
  "language_info": {
   "codemirror_mode": {
    "name": "ipython",
    "version": 3
   },
   "file_extension": ".py",
   "mimetype": "text/x-python",
   "name": "python",
   "nbconvert_exporter": "python",
   "pygments_lexer": "ipython3",
   "version": "3.5.1"
  }
 },
 "nbformat": 4,
 "nbformat_minor": 0
}
