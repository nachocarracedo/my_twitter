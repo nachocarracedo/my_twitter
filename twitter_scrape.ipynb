{
 "cells": [
  {
   "cell_type": "code",
   "execution_count": 12,
   "metadata": {
    "collapsed": false
   },
   "outputs": [],
   "source": [
    "import numpy as np\n",
    "import pandas as pd\n",
    "import matplotlib.pyplot as plt\n",
    "\n",
    "from twython import Twython\n",
    "import keys"
   ]
  },
  {
   "cell_type": "code",
   "execution_count": null,
   "metadata": {
    "collapsed": true
   },
   "outputs": [],
   "source": [
    "# INFO\n",
    "# https://github.com/ryanmcgrath/twython#authorization-url\n",
    "# https://github.com/ryanmcgrath/twython#handling-the-callback"
   ]
  },
  {
   "cell_type": "code",
   "execution_count": 14,
   "metadata": {
    "collapsed": false
   },
   "outputs": [],
   "source": [
    "# twython auth\n",
    "twitter = Twython(keys.APP_KEY, keys.APP_SECRET,keys.OAUTH_TOKEN, keys.OAUTH_TOKEN_SECRET)"
   ]
  },
  {
   "cell_type": "code",
   "execution_count": 136,
   "metadata": {
    "collapsed": false
   },
   "outputs": [],
   "source": [
    "user_ids, user_names, texts , creation, retweets ,favorites, lenguage, retweet, retweet_from, in_reply = ([] for i in range(10))\n",
    "#get following IDs and NAMES (can get more info if needed)\n",
    "following_ids = []\n",
    "following_names= {}\n",
    "following = twitter.get_friends_list()\n",
    "for u in following[\"users\"]:\n",
    "    following_ids.append(u['id'])\n",
    "    following_names[u['id']]=u['name']\n",
    "\n",
    "# get 200 tweets from each friend\n",
    "for user_id in following_ids:\n",
    "    tweets200 = twitter.get_user_timeline(user_id=user_id,count=200)\n",
    "    for t in tweets200:\n",
    "        user_ids.append(user_id)\n",
    "        user_names.append(following_names[user_id])\n",
    "        texts.append(t[\"text\"])\n",
    "        creation.append(t[\"created_at\"])\n",
    "        retweets.append(t[\"retweet_count\"])\n",
    "        favorites.append(t[\"favorite_count\"])\n",
    "        lenguage.append(t[\"lang\"])\n",
    "        in_reply.append(t['in_reply_to_screen_name'])\n",
    "        retweet.append(('retweeted_status') in t)\n",
    "        if ('retweeted_status') in t:\n",
    "            retweet_from.append(t['retweeted_status']['user']['name'])\n",
    "        else:\n",
    "            retweet_from.append(\"N/A\")\n"
   ]
  },
  {
   "cell_type": "code",
   "execution_count": 138,
   "metadata": {
    "collapsed": false
   },
   "outputs": [],
   "source": [
    "mytweets = pd.DataFrame({'user_id':user_ids,'user_name':user_names, 'text':texts ,'retweet': retweet, 'creation':creation ,\n",
    "              'retweets':retweets , 'favorites':favorites , 'lenguage':lenguage,'retweet_from': retweet_from,\n",
    "              'in_reply':in_reply})\n",
    "mytweets[\"in_reply\"] = mytweets[\"in_reply\"].map(lambda x: \"None\" if x is None else x) # fix in_replay"
   ]
  },
  {
   "cell_type": "code",
   "execution_count": 184,
   "metadata": {
    "collapsed": false
   },
   "outputs": [
    {
     "name": "stdout",
     "output_type": "stream",
     "text": [
      "(3448, 10)\n",
      "creation        0\n",
      "favorites       0\n",
      "in_reply        0\n",
      "lenguage        0\n",
      "retweet         0\n",
      "retweet_from    0\n",
      "retweets        0\n",
      "text            0\n",
      "user_id         0\n",
      "user_name       0\n",
      "dtype: int64\n"
     ]
    }
   ],
   "source": [
    "print(mytweets.shape)\n",
    "print(mytweets.isnull().sum())"
   ]
  },
  {
   "cell_type": "code",
   "execution_count": 183,
   "metadata": {
    "collapsed": false,
    "scrolled": true
   },
   "outputs": [],
   "source": []
  },
  {
   "cell_type": "code",
   "execution_count": null,
   "metadata": {
    "collapsed": false
   },
   "outputs": [],
   "source": []
  },
  {
   "cell_type": "code",
   "execution_count": null,
   "metadata": {
    "collapsed": true
   },
   "outputs": [],
   "source": []
  }
 ],
 "metadata": {
  "kernelspec": {
   "display_name": "Python 3",
   "language": "python",
   "name": "python3"
  },
  "language_info": {
   "codemirror_mode": {
    "name": "ipython",
    "version": 3
   },
   "file_extension": ".py",
   "mimetype": "text/x-python",
   "name": "python",
   "nbconvert_exporter": "python",
   "pygments_lexer": "ipython3",
   "version": "3.5.1"
  }
 },
 "nbformat": 4,
 "nbformat_minor": 0
}
